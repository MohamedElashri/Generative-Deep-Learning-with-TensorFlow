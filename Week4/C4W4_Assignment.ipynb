{
  "nbformat": 4,
  "nbformat_minor": 0,
  "metadata": {
    "kernelspec": {
      "display_name": "Python 3",
      "language": "python",
      "name": "python3"
    },
    "language_info": {
      "codemirror_mode": {
        "name": "ipython",
        "version": 3
      },
      "file_extension": ".py",
      "mimetype": "text/x-python",
      "name": "python",
      "nbconvert_exporter": "python",
      "pygments_lexer": "ipython3",
      "version": "3.7.4"
    },
    "colab": {
      "name": "Week4_Assignment.ipynb",
      "provenance": [],
      "collapsed_sections": []
    },
    "accelerator": "GPU"
  },
  "cells": [
    {
      "cell_type": "markdown",
      "metadata": {
        "id": "ROm8kovwJIxD"
      },
      "source": [
        "# Week 4 Assignment: GANs with Hands\n",
        "\n",
        "\n",
        "For the last programming assignment of this course, you will build a Generative Adversarial Network (GAN) that generates pictures of hands. These will be trained on a dataset of hand images doing sign language.\n",
        "\n",
        "The model you will build will be very similar to the DCGAN model that you saw in the second ungraded lab of this week. Feel free to review it in case you get stuck with any of the required steps."
      ]
    },
    {
      "cell_type": "markdown",
      "metadata": {
        "id": "m6Oumw5-Jx1w"
      },
      "source": [
        "***Important:*** *This colab notebook has read-only access so you won't be able to save your changes. If you want to save your work periodically, please click `File -> Save a Copy in Drive` to create a copy in your account, then work from there.*  "
      ]
    },
    {
      "cell_type": "markdown",
      "metadata": {
        "id": "K0OwpFl8JIxP"
      },
      "source": [
        "## Imports"
      ]
    },
    {
      "cell_type": "code",
      "metadata": {
        "id": "k3nvoSP3Btzu"
      },
      "source": [
        "import tensorflow as tf\n",
        "import tensorflow.keras as keras\n",
        "\n",
        "import matplotlib.pyplot as plt\n",
        "import numpy as np\n",
        "\n",
        "import urllib.request\n",
        "import zipfile\n",
        "from IPython import display"
      ],
      "execution_count": null,
      "outputs": []
    },
    {
      "cell_type": "markdown",
      "metadata": {
        "id": "Yxy_M7xbQef-"
      },
      "source": [
        "## Utilities"
      ]
    },
    {
      "cell_type": "code",
      "metadata": {
        "id": "cg_4z8-glz6P"
      },
      "source": [
        "def plot_results(images, n_cols=None):\n",
        "    '''visualizes fake images'''\n",
        "    display.clear_output(wait=False)  \n",
        "    \n",
        "    n_cols = n_cols or len(images)\n",
        "    n_rows = (len(images) - 1) // n_cols + 1\n",
        "    \n",
        "    if images.shape[-1] == 1:\n",
        "        images = np.squeeze(images, axis=-1)\n",
        "    \n",
        "    plt.figure(figsize=(n_cols, n_rows))\n",
        "    \n",
        "    for index, image in enumerate(images):\n",
        "        plt.subplot(n_rows, n_cols, index + 1)\n",
        "        plt.imshow(image, cmap=\"binary\")\n",
        "        plt.axis(\"off\")"
      ],
      "execution_count": null,
      "outputs": []
    },
    {
      "cell_type": "markdown",
      "metadata": {
        "id": "2iI8bUNSJIxR"
      },
      "source": [
        "## Get the training data\n",
        "\n",
        "You will download the dataset and extract it to a directory in your workspace. As mentioned, these are images of human hands performing sign language."
      ]
    },
    {
      "cell_type": "code",
      "metadata": {
        "id": "uIx-60V_BEyo"
      },
      "source": [
        "# download the dataset\n",
        "training_url = \"https://storage.googleapis.com/laurencemoroney-blog.appspot.com/Resources/signs-training.zip\"\n",
        "training_file_name = \"signs-training.zip\"\n",
        "urllib.request.urlretrieve(training_url, training_file_name)\n",
        "\n",
        "# extract to local directory\n",
        "training_dir = \"/tmp\"\n",
        "zip_ref = zipfile.ZipFile(training_file_name, 'r')\n",
        "zip_ref.extractall(training_dir)\n",
        "zip_ref.close()"
      ],
      "execution_count": null,
      "outputs": []
    },
    {
      "cell_type": "markdown",
      "metadata": {
        "id": "5iPZmV9RJIxR"
      },
      "source": [
        "## Preprocess the images\n",
        "\n",
        "Next, you will prepare the dataset to a format suitable for the model. You will read the files, convert it to a tensor of floats, then normalize the pixel values."
      ]
    },
    {
      "cell_type": "code",
      "metadata": {
        "id": "4rf-e4f-d3H7"
      },
      "source": [
        "BATCH_SIZE = 32\n",
        "\n",
        "# mapping function for preprocessing the image files\n",
        "def map_images(file):\n",
        "  '''converts the images to floats and normalizes the pixel values'''\n",
        "  img = tf.io.decode_png(tf.io.read_file(file))\n",
        "  img = tf.dtypes.cast(img, tf.float32)\n",
        "  img = img / 255.0\n",
        "  \n",
        "  return img\n",
        "\n",
        "# create training batches\n",
        "filename_dataset = tf.data.Dataset.list_files(\"/tmp/signs-training/*.png\")\n",
        "image_dataset = filename_dataset.map(map_images).batch(BATCH_SIZE)"
      ],
      "execution_count": null,
      "outputs": []
    },
    {
      "cell_type": "markdown",
      "metadata": {
        "id": "lz9NfgdTJIxS"
      },
      "source": [
        "## Build the generator\n",
        "\n",
        "You are free to experiment but here is the recommended architecture:\n",
        "- *Dense*: number of units should equal `7 * 7 * 128`, input_shape takes in a list containing the random normal dimensions.\n",
        "    - `random_normal_dimensions` is a hyperparameter that defines how many random numbers in a vector you'll want to feed into the generator as a starting point for generating images.\n",
        "- *Reshape*: reshape the vector to a 7 x 7 x 128 tensor.\n",
        "- *BatchNormalization*\n",
        "- *Conv2DTranspose*: takes `64` units, kernel size is `5`, strides is `2`, padding is `SAME`, activation is `selu`.\n",
        "- *BatchNormalization*\n",
        "- *Conv2DTranspose*: `1` unit, kernel size is `5`, strides is `2`, padding is `SAME`, and activation is `tanh`."
      ]
    },
    {
      "cell_type": "code",
      "metadata": {
        "id": "uagZDaF0CZON",
        "colab": {
          "base_uri": "https://localhost:8080/"
        },
        "outputId": "5499941e-6457-4415-cb90-7d62f837deee"
      },
      "source": [
        "# You'll pass the random_normal_dimensions to the first dense layer of the generator\n",
        "random_normal_dimensions = 32\n",
        "\n",
        "### START CODE HERE ###\n",
        "generator = keras.models.Sequential([\n",
        "    keras.layers.Dense(7*7*128, input_shape= [random_normal_dimensions]),\n",
        "    keras.layers.Reshape([7, 7, 128]),\n",
        "    keras.layers.BatchNormalization(),\n",
        "    keras.layers.Conv2DTranspose(filters= 64, kernel_size= 5, strides= 2, \n",
        "                                 padding= \"SAME\", activation= \"selu\"),\n",
        "    keras.layers.BatchNormalization(),\n",
        "    keras.layers.Conv2DTranspose(filters= 1, kernel_size= 5, strides= 2, \n",
        "                                 padding= \"SAME\", activation= \"tanh\")\n",
        "])\n",
        "\n",
        "generator.summary()\n",
        "### END CODE HERE ###"
      ],
      "execution_count": null,
      "outputs": [
        {
          "output_type": "stream",
          "text": [
            "Model: \"sequential\"\n",
            "_________________________________________________________________\n",
            "Layer (type)                 Output Shape              Param #   \n",
            "=================================================================\n",
            "dense (Dense)                (None, 6272)              206976    \n",
            "_________________________________________________________________\n",
            "reshape (Reshape)            (None, 7, 7, 128)         0         \n",
            "_________________________________________________________________\n",
            "batch_normalization (BatchNo (None, 7, 7, 128)         512       \n",
            "_________________________________________________________________\n",
            "conv2d_transpose (Conv2DTran (None, 14, 14, 64)        204864    \n",
            "_________________________________________________________________\n",
            "batch_normalization_1 (Batch (None, 14, 14, 64)        256       \n",
            "_________________________________________________________________\n",
            "conv2d_transpose_1 (Conv2DTr (None, 28, 28, 1)         1601      \n",
            "=================================================================\n",
            "Total params: 414,209\n",
            "Trainable params: 413,825\n",
            "Non-trainable params: 384\n",
            "_________________________________________________________________\n"
          ],
          "name": "stdout"
        }
      ]
    },
    {
      "cell_type": "markdown",
      "metadata": {
        "id": "8_lAy0bjJIxS"
      },
      "source": [
        "## Build the discriminator\n",
        "\n",
        "Here is the recommended architecture for the discriminator:\n",
        "- *Conv2D*: 64 units, kernel size of 5, strides of 2, padding is SAME, activation is a LeakyRelu with alpha of 0.2, input shape is 28 x 28 x 1\n",
        "- *Dropout*: rate is 0.4 (fraction of input units to drop)\n",
        "- *Conv2D*: 128 units, kernel size of 5, strides of 2, padding is SAME, activation is LeakyRelu with alpha of 0.2\n",
        "- *Dropout*: rate is 0.4.\n",
        "- *Flatten*\n",
        "- *Dense*: with 1 unit and a sigmoid activation"
      ]
    },
    {
      "cell_type": "code",
      "metadata": {
        "id": "siCh-qRtJIxT",
        "lines_to_next_cell": 2,
        "colab": {
          "base_uri": "https://localhost:8080/"
        },
        "outputId": "c902ea92-661b-459b-d04c-b108c6e87ebb"
      },
      "source": [
        "### START CODE HERE ###\n",
        "discriminator = keras.models.Sequential([\n",
        "    keras.layers.Conv2D(filters=64, kernel_size= 5, strides= 2, \n",
        "                        padding= \"SAME\", activation = keras.layers.LeakyReLU(0.2), input_shape= [28, 28, 1]),\n",
        "    keras.layers.Dropout(0.4),\n",
        "    keras.layers.Conv2D(filters= 128, kernel_size = 5, strides= 2,\n",
        "                        padding= \"SAME\", activation= keras.layers.LeakyReLU(0.2)),\n",
        "    keras.layers.Dropout(0.4),\n",
        "    keras.layers.Flatten(),\n",
        "    keras.layers.Dense(1, \"sigmoid\")\n",
        "])\n",
        "\n",
        "discriminator.summary()\n",
        "### END CODE HERE ###"
      ],
      "execution_count": null,
      "outputs": [
        {
          "output_type": "stream",
          "text": [
            "Model: \"sequential_1\"\n",
            "_________________________________________________________________\n",
            "Layer (type)                 Output Shape              Param #   \n",
            "=================================================================\n",
            "conv2d (Conv2D)              (None, 14, 14, 64)        1664      \n",
            "_________________________________________________________________\n",
            "dropout (Dropout)            (None, 14, 14, 64)        0         \n",
            "_________________________________________________________________\n",
            "conv2d_1 (Conv2D)            (None, 7, 7, 128)         204928    \n",
            "_________________________________________________________________\n",
            "dropout_1 (Dropout)          (None, 7, 7, 128)         0         \n",
            "_________________________________________________________________\n",
            "flatten (Flatten)            (None, 6272)              0         \n",
            "_________________________________________________________________\n",
            "dense_1 (Dense)              (None, 1)                 6273      \n",
            "=================================================================\n",
            "Total params: 212,865\n",
            "Trainable params: 212,865\n",
            "Non-trainable params: 0\n",
            "_________________________________________________________________\n"
          ],
          "name": "stdout"
        }
      ]
    },
    {
      "cell_type": "markdown",
      "metadata": {
        "id": "EKlTL1lhJIxT"
      },
      "source": [
        "## Compile the discriminator\n",
        "\n",
        "- Compile the discriminator with a binary_crossentropy loss and rmsprop optimizer.\n",
        "- Set the discriminator to not train on its weights (set its \"trainable\" field)."
      ]
    },
    {
      "cell_type": "code",
      "metadata": {
        "id": "xh4EaHDlJIxT"
      },
      "source": [
        "### START CODE HERE ###\n",
        "discriminator.compile(loss='binary_crossentropy', optimizer = 'rmsprop')\n",
        "discriminator.trainable = False\n",
        "### END CODE HERE ###"
      ],
      "execution_count": null,
      "outputs": []
    },
    {
      "cell_type": "markdown",
      "metadata": {
        "id": "3X25T2kUJIxT"
      },
      "source": [
        "## Build and compile the GAN model\n",
        "\n",
        "- Build the sequential model for the GAN, passing a list containing the generator and discriminator.\n",
        "- Compile the model with a binary cross entropy loss and rmsprop optimizer."
      ]
    },
    {
      "cell_type": "code",
      "metadata": {
        "id": "SBclsOMsJIxU"
      },
      "source": [
        "### START CODE HERE ###\n",
        "gan = keras.models.Sequential([generator, discriminator])\n",
        "gan.compile(loss='binary_crossentropy', optimizer = 'rmsprop')\n",
        "### END CODE HERE ###"
      ],
      "execution_count": null,
      "outputs": []
    },
    {
      "cell_type": "markdown",
      "metadata": {
        "id": "zX2CB0srJIxU"
      },
      "source": [
        "## Train the GAN\n",
        "\n",
        "Phase 1\n",
        "- real_batch_size: Get the batch size of the input batch (it's the zero-th dimension of the tensor)\n",
        "- noise: Generate the noise using `tf.random.normal`.  The shape is batch size x random_normal_dimension\n",
        "- fake images: Use the generator that you just created. Pass in the noise and produce fake images.\n",
        "- mixed_images: concatenate the fake images with the real images.\n",
        "  - Set the axis to 0.\n",
        "- discriminator_labels: Set to `0.` for fake images and `1.` for real images.\n",
        "- Set the discriminator as trainable.\n",
        "- Use the discriminator's `train_on_batch()` method to train on the mixed images and the discriminator labels.\n",
        "\n",
        "\n",
        "Phase 2\n",
        "- noise: generate random normal values with dimensions batch_size x random_normal_dimensions\n",
        "  - Use `real_batch_size`.\n",
        "- Generator_labels: Set to `1.` to mark the fake images as real\n",
        "  - The generator will generate fake images that are labeled as real images and attempt to fool the discriminator.\n",
        "- Set the discriminator to NOT be trainable.\n",
        "- Train the GAN on the noise and the generator labels."
      ]
    },
    {
      "cell_type": "code",
      "metadata": {
        "id": "AuV97d_kCpb_"
      },
      "source": [
        "\n",
        "def train_gan(gan, dataset, random_normal_dimensions, n_epochs=50):\n",
        "    \"\"\" Defines the two-phase training loop of the GAN\n",
        "    Args:\n",
        "      gan -- the GAN model which has the generator and discriminator\n",
        "      dataset -- the training set of real images\n",
        "      random_normal_dimensions -- dimensionality of the input to the generator\n",
        "      n_epochs -- number of epochs\n",
        "    \"\"\"\n",
        "\n",
        "    # get the two sub networks from the GAN model\n",
        "    generator, discriminator = gan.layers\n",
        "    \n",
        "    for epoch in range(n_epochs):\n",
        "        print(\"Epoch {}/{}\".format(epoch + 1, n_epochs))       \n",
        "        for real_images in dataset:\n",
        "            \n",
        "### START CODE HERE ###\n",
        "            # infer batch size from the current batch of real images\n",
        "            real_batch_size = real_images.shape[0]\n",
        "            \n",
        "            # Train the discriminator - PHASE 1\n",
        "            # Create the noise\n",
        "            noise = tf.random.normal(shape = [real_batch_size, random_normal_dimensions])\n",
        "            \n",
        "            # Use the noise to generate fake images\n",
        "            fake_images = generator(noise)\n",
        "            \n",
        "            # Create a list by concatenating the fake images with the real ones\n",
        "            mixed_images = tf.concat([fake_images, real_images], axis=0)\n",
        "            \n",
        "            # Create the labels for the discriminator\n",
        "            # 0 for the fake images\n",
        "            # 1 for the real images\n",
        "            discriminator_labels = tf.constant([[0.]] * real_batch_size + [[1.]] * real_batch_size)\n",
        "            \n",
        "            # Ensure that the discriminator is trainable\n",
        "            discriminator.trainable = True\n",
        "            \n",
        "            # Use train_on_batch to train the discriminator with the mixed images and the discriminator labels\n",
        "            discriminator.train_on_batch(mixed_images, discriminator_labels)\n",
        "            \n",
        "            # Train the generator - PHASE 2\n",
        "            # create a batch of noise input to feed to the GAN\n",
        "            noise = tf.random.normal(shape = [real_batch_size, random_normal_dimensions])\n",
        "            \n",
        "            # label all generated images to be \"real\"\n",
        "            generator_labels = tf.constant([[1.]] * real_batch_size)\n",
        "            \n",
        "            # Freeze the discriminator\n",
        "            discriminator.trainable = False\n",
        "\n",
        "            # Train the GAN on the noise with the labels all set to be true\n",
        "            gan.train_on_batch(noise, generator_labels)\n",
        "            \n",
        "### END CODE HERE ###\n",
        "        plot_results(fake_images, 16)                     \n",
        "        plt.show()\n",
        "    return fake_images"
      ],
      "execution_count": null,
      "outputs": []
    },
    {
      "cell_type": "markdown",
      "metadata": {
        "id": "OzbX3hwKJIxW"
      },
      "source": [
        "### Run the training\n",
        "\n",
        "For each epoch, a set of 31 images will be displayed onscreen. The longer you train, the better your output fake images will be. You will pick your best images to submit to the grader."
      ]
    },
    {
      "cell_type": "code",
      "metadata": {
        "id": "wYx9rzdACt0A",
        "colab": {
          "base_uri": "https://localhost:8080/",
          "height": 137
        },
        "outputId": "5cd38dbf-b32c-4e53-a6ee-2bfe8cb7ca45"
      },
      "source": [
        "# you can adjust the number of epochs\n",
        "EPOCHS = 200\n",
        "\n",
        "# run the training loop and collect images\n",
        "fake_images = train_gan(gan, image_dataset, random_normal_dimensions, EPOCHS)"
      ],
      "execution_count": null,
      "outputs": [
        {
          "output_type": "display_data",
          "data": {
            "image/png": "[encoded data removed]",
            "text/plain": [
              "<Figure size 1152x144 with 31 Axes>"
            ]
          },
          "metadata": {
            "tags": [],
            "needs_background": "light"
          }
        }
      ]
    },
    {
      "cell_type": "code",
      "metadata": {
        "colab": {
          "base_uri": "https://localhost:8080/"
        },
        "id": "B8_T5TZoI5d1",
        "outputId": "7545b590-6946-406e-adb3-f9255d1d001d"
      },
      "source": [
        "submit = [0,1,2,3,4,5,6,7,13,14,15,16,18,20,24,26]\r\n",
        "len(submit)"
      ],
      "execution_count": null,
      "outputs": [
        {
          "output_type": "execute_result",
          "data": {
            "text/plain": [
              "16"
            ]
          },
          "metadata": {
            "tags": []
          },
          "execution_count": 31
        }
      ]
    },
    {
      "cell_type": "markdown",
      "metadata": {
        "id": "uIAih3a1JIxX"
      },
      "source": [
        "## Choose your best images to submit for grading!\n",
        "\n",
        "Please visually inspect your 31 generated hand images.  They are indexed from 0 to 30, from left to right on the first row on top, and then continuing from left to right on the second row below it.\n",
        "\n",
        "- Choose 16 images that you think look most like actual hands.\n",
        "- Use the `append_to_grading_images()` function, pass in `fake_images` and a list of the indices for the 16 images that you choose to submit for grading (e.g. `append_to_grading_images(fake_images, [1, 4, 5, 6, 8... until you have 16 elements])`)."
      ]
    },
    {
      "cell_type": "code",
      "metadata": {
        "id": "4Qcxe1RK-piF"
      },
      "source": [
        "# helper function to collect the images\n",
        "def append_to_grading_images(images, indexes, l=[]):\n",
        "  for index in indexes:\n",
        "    if len(l) >= 16:\n",
        "      print(\"The list is full\")\n",
        "      break\n",
        "    l.append(tf.squeeze(images[index:(index+1),...], axis=0))\n",
        "  l = tf.convert_to_tensor(l)\n",
        "  return l"
      ],
      "execution_count": null,
      "outputs": []
    },
    {
      "cell_type": "markdown",
      "metadata": {
        "id": "RFg-wvIcS-Jv"
      },
      "source": [
        "Please fill in the empty list (2nd parameter) with 16 indices indicating the images you want to submit to the grader."
      ]
    },
    {
      "cell_type": "code",
      "metadata": {
        "id": "InUSbfGI-0vk"
      },
      "source": [
        "grading_images = append_to_grading_images(fake_images, submit)"
      ],
      "execution_count": null,
      "outputs": []
    },
    {
      "cell_type": "markdown",
      "metadata": {
        "id": "BsTurLWKJIxY"
      },
      "source": [
        "## Zip your selected images for grading\n",
        "\n",
        "Please run the code below. This will save the images you chose to a zip file named `my-signs.zip`.\n",
        "\n",
        "- Please download this file from the Files explorer on the left.\n",
        "- Please return to the Coursera classroom and upload the zip file for grading."
      ]
    },
    {
      "cell_type": "code",
      "metadata": {
        "id": "vL8W2OGBqFL_"
      },
      "source": [
        "from PIL import Image\n",
        "from zipfile import ZipFile\n",
        "\n",
        "denormalized_images = grading_images * 255\n",
        "denormalized_images = tf.dtypes.cast(denormalized_images, dtype = tf.uint8)\n",
        "\n",
        "file_paths = []\n",
        "\n",
        "for this_image in range(0,16):\n",
        "  i = tf.reshape(denormalized_images[this_image], [28,28])\n",
        "  im = Image.fromarray(i.numpy())\n",
        "  im = im.convert(\"L\")\n",
        "  filename = \"hand\" + str(this_image) + \".png\"\n",
        "  file_paths.append(filename)\n",
        "  im.save(filename)\n",
        "\n",
        "with ZipFile('my-signs.zip', 'w') as zip:\n",
        "  for file in file_paths:\n",
        "    zip.write(file)"
      ],
      "execution_count": null,
      "outputs": []
    },
    {
      "cell_type": "markdown",
      "metadata": {
        "id": "Yp7jYkyXZsM9"
      },
      "source": [
        "**Congratulations on completing the final assignment of this course!**"
      ]
    }
  ]
}